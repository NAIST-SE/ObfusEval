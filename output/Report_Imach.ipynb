{
 "cells": [
  {
   "cell_type": "code",
   "execution_count": 1,
   "metadata": {},
   "outputs": [
    {
     "name": "stdout",
     "output_type": "stream",
     "text": [
      "Hello World!\n"
     ]
    }
   ],
   "source": [
    "print(\"Hello World!\")"
   ]
  },
  {
   "cell_type": "markdown",
   "metadata": {},
   "source": [
    "Analyze"
   ]
  },
  {
   "cell_type": "code",
   "execution_count": 89,
   "metadata": {},
   "outputs": [],
   "source": [
    "import json\n",
    "import pathlib\n",
    "import pandas as pd\n",
    "import statistics\n",
    "pd.options.display.float_format = '{:.4g}'.format\n",
    "\n",
    "# Useful function\n",
    "def load_test_result_data(target: str) -> dict:\n",
    "    target = pathlib.Path(target).joinpath(\"result_test\")\n",
    " \n",
    "    return {\n",
    "        i.stem: [{\n",
    "            \"name\": pathlib.Path(res[\"name\"]).stem,\n",
    "            **res}\n",
    "            for res in json.loads(i.read_text())]\n",
    "        for i in sorted(target.glob(\"*.json\"))}\n",
    "#結果を全部集計したやつ\n",
    "\n",
    "\n",
    "def organize_test_data(test_result_data: dict) -> list:\n",
    "    result = []\n",
    "    for k, v in test_result_data.items():\n",
    "        passed_tests = [i for i in v if any(i[\"compare_results\"])]#なぜかデータがゼロ\n",
    "        failed_tests = [i for i in v if not any(i[\"compare_results\"])]\n",
    "        \n",
    "        \n",
    "        result.append({\n",
    "            \"name\": k,\n",
    "            \"test_pass_rate\": len(passed_tests) / len(v),\n",
    "            \"passed_test_num\": len(passed_tests),\n",
    "            \"failed_test_num\": len(failed_tests),\n",
    "            \"failed_test\": [test[\"name\"] for test in failed_tests]\n",
    "        })\n",
    "    \n",
    "    return result\n",
    "#テストの合格率、合格したテスト数、不合格のテスト数、不合格のテスト名のリストを返す\n",
    "\n",
    "def convert_to_dataframe(data: dict) -> pd. DataFrame:\n",
    "    return pd.read_json(json.dumps(data)).set_index(\"name\")\n",
    "\n",
    "\n",
    "# Please type the name of the property to be analyzed\n",
    "target_property_name = \"prop1\""
   ]
  },
  {
   "cell_type": "markdown",
   "metadata": {},
   "source": [
    "Test Pass Rate"
   ]
  },
  {
   "cell_type": "code",
   "execution_count": 90,
   "metadata": {},
   "outputs": [
    {
     "name": "stdout",
     "output_type": "stream",
     "text": [
      "           name  test_pass_rate  passed_test_num  failed_test_num failed_test\n",
      "0        AddO16               1               40                0          []\n",
      "1   AddO16_EncA               1               40                0          []\n",
      "2   AddO16_EncL               1               40                0          []\n",
      "3   AddO16_Flat               1               40                0          []\n",
      "4   AddO16_Virt               1               40                0          []\n",
      "5         AddO4               1               40                0          []\n",
      "6          EncA               1               40                0          []\n",
      "7   EncA_AddO16               1               40                0          []\n",
      "8     EncA_EncL               1               40                0          []\n",
      "9     EncA_Flat               1               40                0          []\n",
      "10    EncA_Virt               1               40                0          []\n",
      "11         EncL               1               40                0          []\n",
      "12  EncL_AddO16               1               40                0          []\n",
      "13    EncL_EncA               1               40                0          []\n",
      "14    EncL_Flat               1               40                0          []\n",
      "15    EncL_Virt               1               40                0          []\n",
      "16      Flat x2               1               40                0          []\n",
      "17         Flat               1               40                0          []\n",
      "18  Flat_AddO16               1               40                0          []\n",
      "19    Flat_EncA               1               40                0          []\n",
      "20    Flat_EncL               1               40                0          []\n",
      "21    Flat_Virt               1               40                0          []\n",
      "22      Virt x2               1               40                0          []\n",
      "23         Virt               1               40                0          []\n",
      "24  Virt_AddO16               1               40                0          []\n",
      "25    Virt_EncA               1               40                0          []\n",
      "26    Virt_EncL               1               40                0          []\n",
      "27    Virt_Flat               1               40                0          []\n"
     ]
    }
   ],
   "source": [
    "test_result_data = load_test_result_data(target_property_name)\n",
    "#for k, v in test_result_data.items():\n",
    "#    print(k, v)\n",
    "\n",
    "#print(test_result_data[\"AddO16\"][0][\"test_results\"][0][\"exit_code\"])\n",
    "#print(test_result_data)\n",
    "test_pass_data = organize_test_data(test_result_data)\n",
    "df_test_pass_rate = pd.DataFrame(test_pass_data)\n",
    "print(df_test_pass_rate)"
   ]
  },
  {
   "cell_type": "markdown",
   "metadata": {},
   "source": [
    "Code Distance Mean"
   ]
  },
  {
   "cell_type": "code",
   "execution_count": 97,
   "metadata": {},
   "outputs": [],
   "source": [
    "def load_similarity_data(target: str) -> dict:\n",
    "    target = pathlib.Path(target).joinpath(\"result_similarity\")\n",
    "    return {\n",
    "        i.stem: [{\n",
    "            \"name\": pathlib.Path(res[\"name\"]).stem,\n",
    "            **res}\n",
    "            for res in json.loads(i.read_text())]\n",
    "        for i in sorted(target.glob(\"*.json\"))}\n",
    "\n",
    "\n",
    "def calc_distance_mean(similarity_data) -> list:\n",
    "    return [\n",
    "        {\"transformation_name\": k,\n",
    "         \"3gram_Simpson\": statistics.mean([1.0 - x[\"simpson\"] for x in v]),\n",
    "         \"LCSubstr\": statistics.mean([1.0 - x[\"longest_common_substring\"] for x in v])\n",
    "        #  } for k, v in sorted(similarity_data.items())]\n",
    "         } for k, v in similarity_data.items()]"
   ]
  },
  {
   "cell_type": "code",
   "execution_count": 98,
   "metadata": {},
   "outputs": [
    {
     "name": "stdout",
     "output_type": "stream",
     "text": [
      "Empty DataFrame\n",
      "Columns: []\n",
      "Index: []\n"
     ]
    }
   ],
   "source": [
    "similarity_data = load_similarity_data(target_property_name)\n",
    "distance_data = calc_distance_mean(similarity_data)\n",
    "df_code_distance_mean = pd.DataFrame(distance_data)\n",
    "print(df_code_distance_mean)"
   ]
  },
  {
   "cell_type": "code",
   "execution_count": null,
   "metadata": {},
   "outputs": [],
   "source": []
  }
 ],
 "metadata": {
  "kernelspec": {
   "display_name": "Python 3",
   "language": "python",
   "name": "python3"
  },
  "language_info": {
   "codemirror_mode": {
    "name": "ipython",
    "version": 3
   },
   "file_extension": ".py",
   "mimetype": "text/x-python",
   "name": "python",
   "nbconvert_exporter": "python",
   "pygments_lexer": "ipython3",
   "version": "3.8.10"
  },
  "orig_nbformat": 4
 },
 "nbformat": 4,
 "nbformat_minor": 2
}
