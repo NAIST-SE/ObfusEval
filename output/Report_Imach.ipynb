{
 "cells": [
  {
   "cell_type": "code",
   "execution_count": 1,
   "metadata": {},
   "outputs": [
    {
     "name": "stdout",
     "output_type": "stream",
     "text": [
      "Hello World!\n"
     ]
    }
   ],
   "source": [
    "print(\"Hello World!\")"
   ]
  },
  {
   "cell_type": "code",
   "execution_count": 7,
   "metadata": {},
   "outputs": [
    {
     "data": {
      "text/plain": [
       "{'machine': {'OS': 'cat: /etc/redhat-release: No such file or directory',\n",
       "  'CPU': ' 11th Gen Intel(R) Core(TM) i5-11300H @ 3.10GHz',\n",
       "  'Processor_num': '8',\n",
       "  'Memory': '8.0Gi'},\n",
       " 'tool': {'gcc': {'Version': 'gcc (Ubuntu 9.4.0-1ubuntu1~20.04.1) 9.4.0'},\n",
       "  'cloc': {'Version': '1.89'},\n",
       "  'angr': {'Version': '9.1.12332'},\n",
       "  'tigress': {'Version': '3.1'},\n",
       "  'ollvm': {'Version': 'Obfuscator-LLVM clang version 4.0.1  (based on Obfuscator-LLVM 4.0.1)'}}}"
      ]
     },
     "execution_count": 7,
     "metadata": {},
     "output_type": "execute_result"
    }
   ],
   "source": [
    "a = !cat /etc/redhat-release\n",
    "b = !cat /proc/cpuinfo | grep \"model name\"\n",
    "c = !nproc\n",
    "d = !free -h --total | grep Total\n",
    "e = !gcc --version\n",
    "# cloc_v = !docker run --rm aldanial/cloc --version\n",
    "# angr_v = !docker-compose exec angr pip show angr | grep \"Version\"\n",
    "# tigress_v = !docker-compose exec -t tigress obfuscate --version | grep \"TIGRESS VERSION\"\n",
    "# ollvm_v = !docker-compose exec ollvm obfuscate --version\n",
    "\n",
    "environment = dict(\n",
    "    machine=dict(\n",
    "        OS=a[0],\n",
    "        CPU=b[0].split(\":\")[1],\n",
    "        Processor_num=c[0],\n",
    "        Memory=d[0].split(\":\")[1].split()[0]),\n",
    "    tool=dict(\n",
    "        gcc=dict(Version=e[0]),\n",
    "        cloc=dict(Version=\"1.89\"),\n",
    "        angr=dict(Version=\"9.1.12332\"),\n",
    "        tigress=dict(Version=\"3.1\"),\n",
    "        ollvm=dict(Version=\"Obfuscator-LLVM clang version 4.0.1  (based on Obfuscator-LLVM 4.0.1)\")\n",
    "    )\n",
    ")\n",
    "\n",
    "environment"
   ]
  },
  {
   "cell_type": "code",
   "execution_count": 41,
   "metadata": {},
   "outputs": [],
   "source": [
    "import json\n",
    "import pathlib\n",
    "import pandas as pd\n",
    "import statistics\n",
    "pd.options.display.float_format = '{:.4g}'.format\n",
    "\n",
    "# Useful function\n",
    "def load_test_result_data(target: str) -> dict:\n",
    "    target = pathlib.Path(target).joinpath(\"result-test\")\n",
    "    return {\n",
    "        i.stem:[{\n",
    "            \"code_name\": pathlib.Path(res[0]).stem,\n",
    "            **res[1]}\n",
    "            for res in json.loads(i.read_text())]#二次元配列のリスト内包表記\n",
    "        for i in sorted(target.glob(\"*.json\"))}\n",
    "\n",
    "\n",
    "def organize_test_data(test_result_data: dict) -> list:\n",
    "    return [\n",
    "        {\"transformation_name\": k,\n",
    "         \"test_pass_rate\": len([i[\"fail_cause\"] for i in v if not any(i[\"fail_cause\"])]) / len(v),\n",
    "         \"passed_test_num\": len([i[\"fail_cause\"] for i in v if not any(i[\"fail_cause\"])]),\n",
    "         \"failed_test_num\": len([i[\"fail_cause\"] for i in v if any(i[\"fail_cause\"])]),\n",
    "         \"failed_test\": [i[\"code_name\"] for i in v if any(i[\"fail_cause\"])]\n",
    "        #  } for k, v in sorted(test_result_data.items())]\n",
    "         } for k, v in test_result_data.items()]\n",
    "\n",
    "\n",
    "def load_similarity_data(target: str) -> dict:\n",
    "    target = pathlib.Path(target).joinpath(\"result_similarity\")\n",
    "    return {\n",
    "        i.stem: [{\n",
    "            \"code_name\": pathlib.Path(res[0]).stem,\n",
    "            **res[1]}\n",
    "            for res in json.loads(i.read_text())]\n",
    "        for i in sorted(target.glob(\"*.json\"))}\n",
    "\n",
    "\n",
    "def calc_distance_mean(similarity_data) -> list:\n",
    "    return [\n",
    "        {\"transformation_name\": k,\n",
    "         \"3gram_Simpson\": statistics.mean([1.0 - x[\"simpson\"] for x in v]),\n",
    "         \"LCSubstr\": statistics.mean([1.0 - x[\"longest_common_substring\"] for x in v])\n",
    "        #  } for k, v in sorted(similarity_data.items())]\n",
    "         } for k, v in similarity_data.items()]\n",
    "\n",
    "\n",
    "def convert_to_dataframe(data: dict) -> pd. DataFrame:\n",
    "    return pd.read_json(json.dumps(data)).set_index(\"transformation_name\")\n",
    "\n",
    "\n",
    "# Please type the name of the property to be analyzed\n",
    "target_property_name = \"prop1\""
   ]
  },
  {
   "cell_type": "code",
   "execution_count": 42,
   "metadata": {},
   "outputs": [
    {
     "ename": "KeyError",
     "evalue": "\"None of ['transformation_name'] are in the columns\"",
     "output_type": "error",
     "traceback": [
      "\u001b[0;31m---------------------------------------------------------------------------\u001b[0m",
      "\u001b[0;31mKeyError\u001b[0m                                  Traceback (most recent call last)",
      "\u001b[0;32m/tmp/ipykernel_26725/220781459.py\u001b[0m in \u001b[0;36m?\u001b[0;34m()\u001b[0m\n\u001b[0;32m----> 3\u001b[0;31m \u001b[0mtest_result_data\u001b[0m \u001b[0;34m=\u001b[0m \u001b[0mload_test_result_data\u001b[0m\u001b[0;34m(\u001b[0m\u001b[0mtarget_property_name\u001b[0m\u001b[0;34m)\u001b[0m\u001b[0;34m\u001b[0m\u001b[0;34m\u001b[0m\u001b[0m\n\u001b[0m\u001b[1;32m      4\u001b[0m \u001b[0mtest_pass_data\u001b[0m \u001b[0;34m=\u001b[0m \u001b[0morganize_test_data\u001b[0m\u001b[0;34m(\u001b[0m\u001b[0mtest_result_data\u001b[0m\u001b[0;34m)\u001b[0m\u001b[0;34m\u001b[0m\u001b[0;34m\u001b[0m\u001b[0m\n\u001b[1;32m      5\u001b[0m \u001b[0mdf_test_pass_rate\u001b[0m \u001b[0;34m=\u001b[0m \u001b[0mconvert_to_dataframe\u001b[0m\u001b[0;34m(\u001b[0m\u001b[0mtest_pass_data\u001b[0m\u001b[0;34m)\u001b[0m\u001b[0;34m\u001b[0m\u001b[0;34m\u001b[0m\u001b[0m\n\u001b[1;32m      6\u001b[0m \u001b[0;31m# df_test_pass_rate.to_markdown()\u001b[0m\u001b[0;34m\u001b[0m\u001b[0;34m\u001b[0m\u001b[0;34m\u001b[0m\u001b[0m\n",
      "\u001b[0;32m/tmp/ipykernel_26725/3486938983.py\u001b[0m in \u001b[0;36m?\u001b[0;34m(data)\u001b[0m\n\u001b[1;32m     48\u001b[0m \u001b[0;32mdef\u001b[0m \u001b[0mconvert_to_dataframe\u001b[0m\u001b[0;34m(\u001b[0m\u001b[0mdata\u001b[0m\u001b[0;34m:\u001b[0m \u001b[0mdict\u001b[0m\u001b[0;34m)\u001b[0m \u001b[0;34m->\u001b[0m \u001b[0mpd\u001b[0m\u001b[0;34m.\u001b[0m \u001b[0mDataFrame\u001b[0m\u001b[0;34m:\u001b[0m\u001b[0;34m\u001b[0m\u001b[0;34m\u001b[0m\u001b[0m\n\u001b[0;32m---> 49\u001b[0;31m     \u001b[0;32mreturn\u001b[0m \u001b[0mpd\u001b[0m\u001b[0;34m.\u001b[0m\u001b[0mread_json\u001b[0m\u001b[0;34m(\u001b[0m\u001b[0mjson\u001b[0m\u001b[0;34m.\u001b[0m\u001b[0mdumps\u001b[0m\u001b[0;34m(\u001b[0m\u001b[0mdata\u001b[0m\u001b[0;34m)\u001b[0m\u001b[0;34m)\u001b[0m\u001b[0;34m.\u001b[0m\u001b[0mset_index\u001b[0m\u001b[0;34m(\u001b[0m\u001b[0;34m\"transformation_name\"\u001b[0m\u001b[0;34m)\u001b[0m\u001b[0;34m\u001b[0m\u001b[0;34m\u001b[0m\u001b[0m\n\u001b[0m",
      "\u001b[0;32m~/.local/lib/python3.8/site-packages/pandas/core/frame.py\u001b[0m in \u001b[0;36m?\u001b[0;34m(self, keys, drop, append, inplace, verify_integrity)\u001b[0m\n\u001b[1;32m   5855\u001b[0m                     \u001b[0;32mif\u001b[0m \u001b[0;32mnot\u001b[0m \u001b[0mfound\u001b[0m\u001b[0;34m:\u001b[0m\u001b[0;34m\u001b[0m\u001b[0;34m\u001b[0m\u001b[0m\n\u001b[1;32m   5856\u001b[0m                         \u001b[0mmissing\u001b[0m\u001b[0;34m.\u001b[0m\u001b[0mappend\u001b[0m\u001b[0;34m(\u001b[0m\u001b[0mcol\u001b[0m\u001b[0;34m)\u001b[0m\u001b[0;34m\u001b[0m\u001b[0;34m\u001b[0m\u001b[0m\n\u001b[1;32m   5857\u001b[0m \u001b[0;34m\u001b[0m\u001b[0m\n\u001b[1;32m   5858\u001b[0m         \u001b[0;32mif\u001b[0m \u001b[0mmissing\u001b[0m\u001b[0;34m:\u001b[0m\u001b[0;34m\u001b[0m\u001b[0;34m\u001b[0m\u001b[0m\n\u001b[0;32m-> 5859\u001b[0;31m             \u001b[0;32mraise\u001b[0m \u001b[0mKeyError\u001b[0m\u001b[0;34m(\u001b[0m\u001b[0;34mf\"None of {missing} are in the columns\"\u001b[0m\u001b[0;34m)\u001b[0m\u001b[0;34m\u001b[0m\u001b[0;34m\u001b[0m\u001b[0m\n\u001b[0m\u001b[1;32m   5860\u001b[0m \u001b[0;34m\u001b[0m\u001b[0m\n\u001b[1;32m   5861\u001b[0m         \u001b[0;32mif\u001b[0m \u001b[0minplace\u001b[0m\u001b[0;34m:\u001b[0m\u001b[0;34m\u001b[0m\u001b[0;34m\u001b[0m\u001b[0m\n\u001b[1;32m   5862\u001b[0m             \u001b[0mframe\u001b[0m \u001b[0;34m=\u001b[0m \u001b[0mself\u001b[0m\u001b[0;34m\u001b[0m\u001b[0;34m\u001b[0m\u001b[0m\n",
      "\u001b[0;31mKeyError\u001b[0m: \"None of ['transformation_name'] are in the columns\""
     ]
    }
   ],
   "source": [
    "test_result_data = load_test_result_data(target_property_name)\n",
    "test_pass_data = organize_test_data(test_result_data)\n",
    "df_test_pass_rate = convert_to_dataframe(test_pass_data)\n",
    "# df_test_pass_rate.to_markdown()\n",
    "df_test_pass_rate"
   ]
  },
  {
   "cell_type": "code",
   "execution_count": null,
   "metadata": {},
   "outputs": [],
   "source": []
  }
 ],
 "metadata": {
  "kernelspec": {
   "display_name": "Python 3",
   "language": "python",
   "name": "python3"
  },
  "language_info": {
   "codemirror_mode": {
    "name": "ipython",
    "version": 3
   },
   "file_extension": ".py",
   "mimetype": "text/x-python",
   "name": "python",
   "nbconvert_exporter": "python",
   "pygments_lexer": "ipython3",
   "version": "3.8.10"
  },
  "orig_nbformat": 4
 },
 "nbformat": 4,
 "nbformat_minor": 2
}
